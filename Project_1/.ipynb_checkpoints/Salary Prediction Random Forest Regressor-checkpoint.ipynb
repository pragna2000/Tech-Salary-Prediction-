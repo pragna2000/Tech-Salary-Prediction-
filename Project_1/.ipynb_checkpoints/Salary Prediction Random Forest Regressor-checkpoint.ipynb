{
 "cells": [
  {
   "cell_type": "code",
   "execution_count": 26,
   "id": "3473f4fb",
   "metadata": {},
   "outputs": [],
   "source": [
    "import pandas as pd\n",
    "import numpy as np\n",
    "import matplotlib.pyplot as plt\n",
    "import seaborn as sns\n",
    "from sklearn.model_selection import train_test_split \n",
    "from sklearn.preprocessing import StandardScaler , MinMaxScaler\n",
    "from sklearn.linear_model import LinearRegression\n",
    "from sklearn.metrics import r2_score , mean_squared_error\n",
    "from sklearn import linear_model\n",
    "from sklearn.impute import SimpleImputer\n",
    "\n",
    "df = pd.read_csv(\"Cleaned_Official_Data_New.csv\")\n",
    "salary_data = df[['company', 'totalyearlycompensation', 'yearsofexperience', 'yearsatcompany', 'gender']]"
   ]
  },
  {
   "cell_type": "code",
   "execution_count": 27,
   "id": "d833061b",
   "metadata": {},
   "outputs": [
    {
     "data": {
      "text/html": [
       "<div>\n",
       "<style scoped>\n",
       "    .dataframe tbody tr th:only-of-type {\n",
       "        vertical-align: middle;\n",
       "    }\n",
       "\n",
       "    .dataframe tbody tr th {\n",
       "        vertical-align: top;\n",
       "    }\n",
       "\n",
       "    .dataframe thead th {\n",
       "        text-align: right;\n",
       "    }\n",
       "</style>\n",
       "<table border=\"1\" class=\"dataframe\">\n",
       "  <thead>\n",
       "    <tr style=\"text-align: right;\">\n",
       "      <th></th>\n",
       "      <th>company</th>\n",
       "      <th>title</th>\n",
       "      <th>totalyearlycompensation</th>\n",
       "      <th>location</th>\n",
       "      <th>yearsofexperience</th>\n",
       "      <th>yearsatcompany</th>\n",
       "      <th>basesalary</th>\n",
       "      <th>stockgrantvalue</th>\n",
       "      <th>bonus</th>\n",
       "      <th>gender</th>\n",
       "      <th>Education_Level</th>\n",
       "      <th>Race</th>\n",
       "    </tr>\n",
       "  </thead>\n",
       "  <tbody>\n",
       "    <tr>\n",
       "      <th>0</th>\n",
       "      <td>472</td>\n",
       "      <td>11</td>\n",
       "      <td>140000</td>\n",
       "      <td>729</td>\n",
       "      <td>4.0</td>\n",
       "      <td>4.0</td>\n",
       "      <td>130000</td>\n",
       "      <td>0.0</td>\n",
       "      <td>10000.0</td>\n",
       "      <td>1</td>\n",
       "      <td>4</td>\n",
       "      <td>5</td>\n",
       "    </tr>\n",
       "    <tr>\n",
       "      <th>1</th>\n",
       "      <td>61</td>\n",
       "      <td>11</td>\n",
       "      <td>172000</td>\n",
       "      <td>748</td>\n",
       "      <td>12.0</td>\n",
       "      <td>2.0</td>\n",
       "      <td>142000</td>\n",
       "      <td>30000.0</td>\n",
       "      <td>0.0</td>\n",
       "      <td>1</td>\n",
       "      <td>4</td>\n",
       "      <td>5</td>\n",
       "    </tr>\n",
       "    <tr>\n",
       "      <th>2</th>\n",
       "      <td>1183</td>\n",
       "      <td>11</td>\n",
       "      <td>325000</td>\n",
       "      <td>718</td>\n",
       "      <td>7.0</td>\n",
       "      <td>2.0</td>\n",
       "      <td>161000</td>\n",
       "      <td>140000.0</td>\n",
       "      <td>25000.0</td>\n",
       "      <td>1</td>\n",
       "      <td>4</td>\n",
       "      <td>5</td>\n",
       "    </tr>\n",
       "    <tr>\n",
       "      <th>3</th>\n",
       "      <td>762</td>\n",
       "      <td>11</td>\n",
       "      <td>150000</td>\n",
       "      <td>748</td>\n",
       "      <td>4.0</td>\n",
       "      <td>0.0</td>\n",
       "      <td>118000</td>\n",
       "      <td>5000.0</td>\n",
       "      <td>12000.0</td>\n",
       "      <td>1</td>\n",
       "      <td>4</td>\n",
       "      <td>5</td>\n",
       "    </tr>\n",
       "    <tr>\n",
       "      <th>4</th>\n",
       "      <td>517</td>\n",
       "      <td>11</td>\n",
       "      <td>640000</td>\n",
       "      <td>537</td>\n",
       "      <td>11.0</td>\n",
       "      <td>4.0</td>\n",
       "      <td>210000</td>\n",
       "      <td>380000.0</td>\n",
       "      <td>50000.0</td>\n",
       "      <td>1</td>\n",
       "      <td>4</td>\n",
       "      <td>5</td>\n",
       "    </tr>\n",
       "    <tr>\n",
       "      <th>...</th>\n",
       "      <td>...</td>\n",
       "      <td>...</td>\n",
       "      <td>...</td>\n",
       "      <td>...</td>\n",
       "      <td>...</td>\n",
       "      <td>...</td>\n",
       "      <td>...</td>\n",
       "      <td>...</td>\n",
       "      <td>...</td>\n",
       "      <td>...</td>\n",
       "      <td>...</td>\n",
       "      <td>...</td>\n",
       "    </tr>\n",
       "    <tr>\n",
       "      <th>41499</th>\n",
       "      <td>61</td>\n",
       "      <td>11</td>\n",
       "      <td>135000</td>\n",
       "      <td>748</td>\n",
       "      <td>1.0</td>\n",
       "      <td>0.0</td>\n",
       "      <td>104000</td>\n",
       "      <td>3000.0</td>\n",
       "      <td>18500.0</td>\n",
       "      <td>1</td>\n",
       "      <td>4</td>\n",
       "      <td>5</td>\n",
       "    </tr>\n",
       "    <tr>\n",
       "      <th>41500</th>\n",
       "      <td>61</td>\n",
       "      <td>11</td>\n",
       "      <td>350000</td>\n",
       "      <td>47</td>\n",
       "      <td>14.0</td>\n",
       "      <td>1.0</td>\n",
       "      <td>160000</td>\n",
       "      <td>175000.0</td>\n",
       "      <td>56250.0</td>\n",
       "      <td>1</td>\n",
       "      <td>4</td>\n",
       "      <td>5</td>\n",
       "    </tr>\n",
       "    <tr>\n",
       "      <th>41501</th>\n",
       "      <td>762</td>\n",
       "      <td>8</td>\n",
       "      <td>305000</td>\n",
       "      <td>748</td>\n",
       "      <td>20.0</td>\n",
       "      <td>2.0</td>\n",
       "      <td>200000</td>\n",
       "      <td>75000.0</td>\n",
       "      <td>30000.0</td>\n",
       "      <td>0</td>\n",
       "      <td>4</td>\n",
       "      <td>5</td>\n",
       "    </tr>\n",
       "    <tr>\n",
       "      <th>41502</th>\n",
       "      <td>61</td>\n",
       "      <td>11</td>\n",
       "      <td>152000</td>\n",
       "      <td>748</td>\n",
       "      <td>3.0</td>\n",
       "      <td>0.0</td>\n",
       "      <td>106000</td>\n",
       "      <td>26000.0</td>\n",
       "      <td>20000.0</td>\n",
       "      <td>1</td>\n",
       "      <td>4</td>\n",
       "      <td>5</td>\n",
       "    </tr>\n",
       "    <tr>\n",
       "      <th>41503</th>\n",
       "      <td>1304</td>\n",
       "      <td>11</td>\n",
       "      <td>200000</td>\n",
       "      <td>797</td>\n",
       "      <td>0.0</td>\n",
       "      <td>0.0</td>\n",
       "      <td>155000</td>\n",
       "      <td>27000.0</td>\n",
       "      <td>19000.0</td>\n",
       "      <td>1</td>\n",
       "      <td>4</td>\n",
       "      <td>5</td>\n",
       "    </tr>\n",
       "  </tbody>\n",
       "</table>\n",
       "<p>41504 rows × 12 columns</p>\n",
       "</div>"
      ],
      "text/plain": [
       "       company  title  totalyearlycompensation  location  yearsofexperience  \\\n",
       "0          472     11                   140000       729                4.0   \n",
       "1           61     11                   172000       748               12.0   \n",
       "2         1183     11                   325000       718                7.0   \n",
       "3          762     11                   150000       748                4.0   \n",
       "4          517     11                   640000       537               11.0   \n",
       "...        ...    ...                      ...       ...                ...   \n",
       "41499       61     11                   135000       748                1.0   \n",
       "41500       61     11                   350000        47               14.0   \n",
       "41501      762      8                   305000       748               20.0   \n",
       "41502       61     11                   152000       748                3.0   \n",
       "41503     1304     11                   200000       797                0.0   \n",
       "\n",
       "       yearsatcompany  basesalary  stockgrantvalue    bonus  gender  \\\n",
       "0                 4.0      130000              0.0  10000.0       1   \n",
       "1                 2.0      142000          30000.0      0.0       1   \n",
       "2                 2.0      161000         140000.0  25000.0       1   \n",
       "3                 0.0      118000           5000.0  12000.0       1   \n",
       "4                 4.0      210000         380000.0  50000.0       1   \n",
       "...               ...         ...              ...      ...     ...   \n",
       "41499             0.0      104000           3000.0  18500.0       1   \n",
       "41500             1.0      160000         175000.0  56250.0       1   \n",
       "41501             2.0      200000          75000.0  30000.0       0   \n",
       "41502             0.0      106000          26000.0  20000.0       1   \n",
       "41503             0.0      155000          27000.0  19000.0       1   \n",
       "\n",
       "       Education_Level  Race  \n",
       "0                    4     5  \n",
       "1                    4     5  \n",
       "2                    4     5  \n",
       "3                    4     5  \n",
       "4                    4     5  \n",
       "...                ...   ...  \n",
       "41499                4     5  \n",
       "41500                4     5  \n",
       "41501                4     5  \n",
       "41502                4     5  \n",
       "41503                4     5  \n",
       "\n",
       "[41504 rows x 12 columns]"
      ]
     },
     "execution_count": 27,
     "metadata": {},
     "output_type": "execute_result"
    }
   ],
   "source": [
    "df"
   ]
  },
  {
   "cell_type": "code",
   "execution_count": 28,
   "id": "4136a574",
   "metadata": {},
   "outputs": [
    {
     "data": {
      "text/html": [
       "<div>\n",
       "<style scoped>\n",
       "    .dataframe tbody tr th:only-of-type {\n",
       "        vertical-align: middle;\n",
       "    }\n",
       "\n",
       "    .dataframe tbody tr th {\n",
       "        vertical-align: top;\n",
       "    }\n",
       "\n",
       "    .dataframe thead th {\n",
       "        text-align: right;\n",
       "    }\n",
       "</style>\n",
       "<table border=\"1\" class=\"dataframe\">\n",
       "  <thead>\n",
       "    <tr style=\"text-align: right;\">\n",
       "      <th></th>\n",
       "      <th>company</th>\n",
       "      <th>totalyearlycompensation</th>\n",
       "      <th>yearsofexperience</th>\n",
       "      <th>yearsatcompany</th>\n",
       "      <th>gender</th>\n",
       "    </tr>\n",
       "  </thead>\n",
       "  <tbody>\n",
       "    <tr>\n",
       "      <th>0</th>\n",
       "      <td>472</td>\n",
       "      <td>140000</td>\n",
       "      <td>4.0</td>\n",
       "      <td>4.0</td>\n",
       "      <td>1</td>\n",
       "    </tr>\n",
       "    <tr>\n",
       "      <th>1</th>\n",
       "      <td>61</td>\n",
       "      <td>172000</td>\n",
       "      <td>12.0</td>\n",
       "      <td>2.0</td>\n",
       "      <td>1</td>\n",
       "    </tr>\n",
       "    <tr>\n",
       "      <th>2</th>\n",
       "      <td>1183</td>\n",
       "      <td>325000</td>\n",
       "      <td>7.0</td>\n",
       "      <td>2.0</td>\n",
       "      <td>1</td>\n",
       "    </tr>\n",
       "    <tr>\n",
       "      <th>3</th>\n",
       "      <td>762</td>\n",
       "      <td>150000</td>\n",
       "      <td>4.0</td>\n",
       "      <td>0.0</td>\n",
       "      <td>1</td>\n",
       "    </tr>\n",
       "    <tr>\n",
       "      <th>4</th>\n",
       "      <td>517</td>\n",
       "      <td>640000</td>\n",
       "      <td>11.0</td>\n",
       "      <td>4.0</td>\n",
       "      <td>1</td>\n",
       "    </tr>\n",
       "    <tr>\n",
       "      <th>...</th>\n",
       "      <td>...</td>\n",
       "      <td>...</td>\n",
       "      <td>...</td>\n",
       "      <td>...</td>\n",
       "      <td>...</td>\n",
       "    </tr>\n",
       "    <tr>\n",
       "      <th>41499</th>\n",
       "      <td>61</td>\n",
       "      <td>135000</td>\n",
       "      <td>1.0</td>\n",
       "      <td>0.0</td>\n",
       "      <td>1</td>\n",
       "    </tr>\n",
       "    <tr>\n",
       "      <th>41500</th>\n",
       "      <td>61</td>\n",
       "      <td>350000</td>\n",
       "      <td>14.0</td>\n",
       "      <td>1.0</td>\n",
       "      <td>1</td>\n",
       "    </tr>\n",
       "    <tr>\n",
       "      <th>41501</th>\n",
       "      <td>762</td>\n",
       "      <td>305000</td>\n",
       "      <td>20.0</td>\n",
       "      <td>2.0</td>\n",
       "      <td>0</td>\n",
       "    </tr>\n",
       "    <tr>\n",
       "      <th>41502</th>\n",
       "      <td>61</td>\n",
       "      <td>152000</td>\n",
       "      <td>3.0</td>\n",
       "      <td>0.0</td>\n",
       "      <td>1</td>\n",
       "    </tr>\n",
       "    <tr>\n",
       "      <th>41503</th>\n",
       "      <td>1304</td>\n",
       "      <td>200000</td>\n",
       "      <td>0.0</td>\n",
       "      <td>0.0</td>\n",
       "      <td>1</td>\n",
       "    </tr>\n",
       "  </tbody>\n",
       "</table>\n",
       "<p>41504 rows × 5 columns</p>\n",
       "</div>"
      ],
      "text/plain": [
       "       company  totalyearlycompensation  yearsofexperience  yearsatcompany  \\\n",
       "0          472                   140000                4.0             4.0   \n",
       "1           61                   172000               12.0             2.0   \n",
       "2         1183                   325000                7.0             2.0   \n",
       "3          762                   150000                4.0             0.0   \n",
       "4          517                   640000               11.0             4.0   \n",
       "...        ...                      ...                ...             ...   \n",
       "41499       61                   135000                1.0             0.0   \n",
       "41500       61                   350000               14.0             1.0   \n",
       "41501      762                   305000               20.0             2.0   \n",
       "41502       61                   152000                3.0             0.0   \n",
       "41503     1304                   200000                0.0             0.0   \n",
       "\n",
       "       gender  \n",
       "0           1  \n",
       "1           1  \n",
       "2           1  \n",
       "3           1  \n",
       "4           1  \n",
       "...       ...  \n",
       "41499       1  \n",
       "41500       1  \n",
       "41501       0  \n",
       "41502       1  \n",
       "41503       1  \n",
       "\n",
       "[41504 rows x 5 columns]"
      ]
     },
     "execution_count": 28,
     "metadata": {},
     "output_type": "execute_result"
    }
   ],
   "source": [
    "salary_data"
   ]
  },
  {
   "cell_type": "code",
   "execution_count": null,
   "id": "4a739137",
   "metadata": {},
   "outputs": [],
   "source": []
  },
  {
   "cell_type": "markdown",
   "id": "e6376b39",
   "metadata": {},
   "source": [
    "# Splitting and Training Sets"
   ]
  },
  {
   "cell_type": "code",
   "execution_count": 35,
   "id": "3af90af1",
   "metadata": {},
   "outputs": [],
   "source": [
    "X= salary_data[['company', 'yearsofexperience', 'yearsatcompany', 'gender']]\n",
    "y= salary_data['totalyearlycompensation']"
   ]
  },
  {
   "cell_type": "code",
   "execution_count": 37,
   "id": "0304d159",
   "metadata": {},
   "outputs": [
    {
     "data": {
      "text/plain": [
       "((41504, 4), (41504,))"
      ]
     },
     "execution_count": 37,
     "metadata": {},
     "output_type": "execute_result"
    }
   ],
   "source": [
    "X.shape, y.shape"
   ]
  },
  {
   "cell_type": "code",
   "execution_count": 38,
   "id": "2fb4026e",
   "metadata": {},
   "outputs": [
    {
     "name": "stdout",
     "output_type": "stream",
     "text": [
      "   company  yearsofexperience  yearsatcompany  gender\n",
      "0      472                4.0             4.0       1\n",
      "1       61               12.0             2.0       1\n",
      "2     1183                7.0             2.0       1\n",
      "3      762                4.0             0.0       1\n",
      "4      517               11.0             4.0       1\n",
      "5     1152                0.0             0.0       1\n",
      "6      762                3.0             0.0       1\n",
      "7      858                9.0             3.0       1\n",
      "8       90                3.0             1.0       0\n",
      "9      982               10.0             0.0       1\n"
     ]
    }
   ],
   "source": [
    "print(X[:10])"
   ]
  },
  {
   "cell_type": "code",
   "execution_count": null,
   "id": "5f217918",
   "metadata": {},
   "outputs": [],
   "source": []
  },
  {
   "cell_type": "code",
   "execution_count": 39,
   "id": "76281bc3",
   "metadata": {},
   "outputs": [],
   "source": [
    "X_train, X_test, y_train, y_test = train_test_split(X,y, test_size = 0.20)"
   ]
  },
  {
   "cell_type": "code",
   "execution_count": 40,
   "id": "56903c4e",
   "metadata": {},
   "outputs": [
    {
     "name": "stdout",
     "output_type": "stream",
     "text": [
      "(33203, 4) (8301, 4) (33203,) (8301,)\n"
     ]
    }
   ],
   "source": [
    "print(X_train.shape, X_test.shape, y_train.shape, y_test.shape)"
   ]
  },
  {
   "cell_type": "markdown",
   "id": "7e8399c2",
   "metadata": {},
   "source": [
    "# Random Forest Model"
   ]
  },
  {
   "cell_type": "code",
   "execution_count": 59,
   "id": "33ca0711",
   "metadata": {},
   "outputs": [],
   "source": [
    "from sklearn.ensemble import RandomForestRegressor\n",
    "from sklearn.metrics import mean_absolute_error, mean_squared_error, r2_score \n",
    "from sklearn.metrics import accuracy_score"
   ]
  },
  {
   "cell_type": "code",
   "execution_count": 60,
   "id": "a67f87dd",
   "metadata": {},
   "outputs": [
    {
     "name": "stdout",
     "output_type": "stream",
     "text": [
      "R-squared: 0.40291869055351703\n"
     ]
    }
   ],
   "source": [
    "model = RandomForestRegressor(n_estimators = 50, random_state = 50)\n",
    "salary_rf = model.fit(X_train, y_train)\n",
    "\n",
    "\n",
    "score = model.score(X_test, y_test)\n",
    "print(\"R-squared:\", score)"
   ]
  },
  {
   "cell_type": "code",
   "execution_count": 61,
   "id": "30e92c43",
   "metadata": {},
   "outputs": [],
   "source": [
    "y_train_pred = salary_rf.predict(X_train)"
   ]
  },
  {
   "cell_type": "code",
   "execution_count": 63,
   "id": "177fa9e9",
   "metadata": {},
   "outputs": [],
   "source": [
    "y_test_pred = salary_rf.predict(X_test)"
   ]
  },
  {
   "cell_type": "code",
   "execution_count": null,
   "id": "a9024afd",
   "metadata": {},
   "outputs": [],
   "source": []
  },
  {
   "cell_type": "code",
   "execution_count": 64,
   "id": "33f93e8f",
   "metadata": {},
   "outputs": [
    {
     "data": {
      "text/plain": [
       "array([347590.76923077, 245637.64081039, 427337.76190476, 120533.33333333,\n",
       "       162420.        , 179280.43329633, 133746.        , 228300.        ,\n",
       "       309742.31903176,  72697.21428571])"
      ]
     },
     "execution_count": 64,
     "metadata": {},
     "output_type": "execute_result"
    }
   ],
   "source": [
    "y_test_pred[:10]"
   ]
  },
  {
   "cell_type": "code",
   "execution_count": 66,
   "id": "567e294f",
   "metadata": {},
   "outputs": [],
   "source": [
    "r2 = r2_score(y_test, y_test_pred)"
   ]
  },
  {
   "cell_type": "code",
   "execution_count": 67,
   "id": "d456a792",
   "metadata": {},
   "outputs": [
    {
     "data": {
      "text/plain": [
       "0.40291869055351703"
      ]
     },
     "execution_count": 67,
     "metadata": {},
     "output_type": "execute_result"
    }
   ],
   "source": [
    "r2"
   ]
  },
  {
   "cell_type": "code",
   "execution_count": 71,
   "id": "7f3d7133",
   "metadata": {},
   "outputs": [
    {
     "data": {
      "text/plain": [
       "[<matplotlib.lines.Line2D at 0x7fc6aad40970>]"
      ]
     },
     "execution_count": 71,
     "metadata": {},
     "output_type": "execute_result"
    },
    {
     "data": {
      "image/png": "[encoded data removed]",
      "text/plain": [
       "<Figure size 1000x600 with 1 Axes>"
      ]
     },
     "metadata": {},
     "output_type": "display_data"
    }
   ],
   "source": [
    "plt.rcParams['figure.figsize'] = (10,6)\n",
    "x_ax = range(len(X_test))\n",
    "\n",
    "plt.plot(x_ax, y_test, label = 'Oirignal')\n",
    "plt.plot(x_ax, y_test_pred, label ='Predicted')"
   ]
  },
  {
   "cell_type": "code",
   "execution_count": null,
   "id": "3a11d783",
   "metadata": {},
   "outputs": [],
   "source": [
    "salary_data['predicted_rank'] = clf.predict(X)\n",
    "predicted_champion = df.loc[df['predicted_rank'].idxmin()]['TeamName']\n",
    "print(f\"Predicted NBA Champion: {predicted_champion}\")"
   ]
  },
  {
   "cell_type": "code",
   "execution_count": null,
   "id": "8853bdb6",
   "metadata": {},
   "outputs": [],
   "source": []
  }
 ],
 "metadata": {
  "kernelspec": {
   "display_name": "Python 3 (ipykernel)",
   "language": "python",
   "name": "python3"
  },
  "language_info": {
   "codemirror_mode": {
    "name": "ipython",
    "version": 3
   },
   "file_extension": ".py",
   "mimetype": "text/x-python",
   "name": "python",
   "nbconvert_exporter": "python",
   "pygments_lexer": "ipython3",
   "version": "3.10.4"
  }
 },
 "nbformat": 4,
 "nbformat_minor": 5
}
