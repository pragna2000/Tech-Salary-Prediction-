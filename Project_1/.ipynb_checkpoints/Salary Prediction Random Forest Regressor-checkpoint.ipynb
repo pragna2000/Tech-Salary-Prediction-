{
 "cells": [
  {
   "cell_type": "code",
   "execution_count": 68,
   "id": "3473f4fb",
   "metadata": {},
   "outputs": [],
   "source": [
    "import pandas as pd\n",
    "import numpy as np\n",
    "import matplotlib.pyplot as plt\n",
    "import seaborn as sns\n",
    "from sklearn.model_selection import train_test_split \n",
    "from sklearn.preprocessing import StandardScaler , MinMaxScaler\n",
    "from sklearn.linear_model import LinearRegression\n",
    "from sklearn.metrics import r2_score , mean_squared_error\n",
    "from sklearn import linear_model\n",
    "from sklearn.impute import SimpleImputer\n"
   ]
  },
  {
   "cell_type": "markdown",
   "id": "7e8399c2",
   "metadata": {},
   "source": [
    "# Random Forest Model of Normalized Set"
   ]
  },
  {
   "cell_type": "code",
   "execution_count": 141,
   "id": "09963b6d",
   "metadata": {},
   "outputs": [
    {
     "data": {
      "text/html": [
       "<div>\n",
       "<style scoped>\n",
       "    .dataframe tbody tr th:only-of-type {\n",
       "        vertical-align: middle;\n",
       "    }\n",
       "\n",
       "    .dataframe tbody tr th {\n",
       "        vertical-align: top;\n",
       "    }\n",
       "\n",
       "    .dataframe thead th {\n",
       "        text-align: right;\n",
       "    }\n",
       "</style>\n",
       "<table border=\"1\" class=\"dataframe\">\n",
       "  <thead>\n",
       "    <tr style=\"text-align: right;\">\n",
       "      <th></th>\n",
       "      <th>company</th>\n",
       "      <th>level</th>\n",
       "      <th>title</th>\n",
       "      <th>totalyearlycompensation</th>\n",
       "      <th>location</th>\n",
       "      <th>yearsofexperience</th>\n",
       "      <th>yearsatcompany</th>\n",
       "      <th>tag</th>\n",
       "      <th>basesalary</th>\n",
       "      <th>stockgrantvalue</th>\n",
       "      <th>...</th>\n",
       "      <th>Doctorate_Degree</th>\n",
       "      <th>Highschool</th>\n",
       "      <th>Some_College</th>\n",
       "      <th>Race_Asian</th>\n",
       "      <th>Race_White</th>\n",
       "      <th>Race_Two_Or_More</th>\n",
       "      <th>Race_Black</th>\n",
       "      <th>Race_Hispanic</th>\n",
       "      <th>Race</th>\n",
       "      <th>Education</th>\n",
       "    </tr>\n",
       "  </thead>\n",
       "  <tbody>\n",
       "    <tr>\n",
       "      <th>0</th>\n",
       "      <td>-0.143430</td>\n",
       "      <td>0.054564</td>\n",
       "      <td>0.447007</td>\n",
       "      <td>1.517822</td>\n",
       "      <td>1.065329</td>\n",
       "      <td>-0.363612</td>\n",
       "      <td>0.689104</td>\n",
       "      <td>-0.533509</td>\n",
       "      <td>1.329823</td>\n",
       "      <td>1.379429</td>\n",
       "      <td>...</td>\n",
       "      <td>4.726695</td>\n",
       "      <td>-0.118899</td>\n",
       "      <td>-0.126508</td>\n",
       "      <td>0.943906</td>\n",
       "      <td>-0.742863</td>\n",
       "      <td>-0.191721</td>\n",
       "      <td>-0.178149</td>\n",
       "      <td>-0.227948</td>\n",
       "      <td>-0.887996</td>\n",
       "      <td>1.754538</td>\n",
       "    </tr>\n",
       "    <tr>\n",
       "      <th>1</th>\n",
       "      <td>0.471923</td>\n",
       "      <td>-1.595458</td>\n",
       "      <td>0.447007</td>\n",
       "      <td>-0.465347</td>\n",
       "      <td>0.569680</td>\n",
       "      <td>-0.705530</td>\n",
       "      <td>-0.212300</td>\n",
       "      <td>-0.611236</td>\n",
       "      <td>-0.172942</td>\n",
       "      <td>-0.606353</td>\n",
       "      <td>...</td>\n",
       "      <td>-0.211564</td>\n",
       "      <td>-0.118899</td>\n",
       "      <td>-0.126508</td>\n",
       "      <td>-1.059427</td>\n",
       "      <td>-0.742863</td>\n",
       "      <td>5.215915</td>\n",
       "      <td>-0.178149</td>\n",
       "      <td>-0.227948</td>\n",
       "      <td>0.718519</td>\n",
       "      <td>-0.941343</td>\n",
       "    </tr>\n",
       "    <tr>\n",
       "      <th>2</th>\n",
       "      <td>-0.143430</td>\n",
       "      <td>0.009894</td>\n",
       "      <td>0.447007</td>\n",
       "      <td>1.044566</td>\n",
       "      <td>0.754969</td>\n",
       "      <td>-0.192653</td>\n",
       "      <td>0.989572</td>\n",
       "      <td>-0.241446</td>\n",
       "      <td>0.753181</td>\n",
       "      <td>1.103626</td>\n",
       "      <td>...</td>\n",
       "      <td>-0.211564</td>\n",
       "      <td>-0.118899</td>\n",
       "      <td>-0.126508</td>\n",
       "      <td>0.943906</td>\n",
       "      <td>-0.742863</td>\n",
       "      <td>-0.191721</td>\n",
       "      <td>-0.178149</td>\n",
       "      <td>-0.227948</td>\n",
       "      <td>-0.887996</td>\n",
       "      <td>-0.941343</td>\n",
       "    </tr>\n",
       "    <tr>\n",
       "      <th>3</th>\n",
       "      <td>0.471923</td>\n",
       "      <td>-1.592666</td>\n",
       "      <td>0.447007</td>\n",
       "      <td>0.180685</td>\n",
       "      <td>0.880039</td>\n",
       "      <td>-0.534571</td>\n",
       "      <td>0.388636</td>\n",
       "      <td>-1.482715</td>\n",
       "      <td>0.526019</td>\n",
       "      <td>-0.096117</td>\n",
       "      <td>...</td>\n",
       "      <td>-0.211564</td>\n",
       "      <td>-0.118899</td>\n",
       "      <td>-0.126508</td>\n",
       "      <td>0.943906</td>\n",
       "      <td>-0.742863</td>\n",
       "      <td>-0.191721</td>\n",
       "      <td>-0.178149</td>\n",
       "      <td>-0.227948</td>\n",
       "      <td>-0.887996</td>\n",
       "      <td>0.855911</td>\n",
       "    </tr>\n",
       "    <tr>\n",
       "      <th>4</th>\n",
       "      <td>-1.064986</td>\n",
       "      <td>-0.336304</td>\n",
       "      <td>0.447007</td>\n",
       "      <td>-0.082235</td>\n",
       "      <td>0.768866</td>\n",
       "      <td>-0.363612</td>\n",
       "      <td>-0.813236</td>\n",
       "      <td>-0.241446</td>\n",
       "      <td>0.543493</td>\n",
       "      <td>-0.316760</td>\n",
       "      <td>...</td>\n",
       "      <td>-0.211564</td>\n",
       "      <td>-0.118899</td>\n",
       "      <td>-0.126508</td>\n",
       "      <td>-1.059427</td>\n",
       "      <td>1.346143</td>\n",
       "      <td>-0.191721</td>\n",
       "      <td>-0.178149</td>\n",
       "      <td>-0.227948</td>\n",
       "      <td>1.254024</td>\n",
       "      <td>-0.941343</td>\n",
       "    </tr>\n",
       "    <tr>\n",
       "      <th>...</th>\n",
       "      <td>...</td>\n",
       "      <td>...</td>\n",
       "      <td>...</td>\n",
       "      <td>...</td>\n",
       "      <td>...</td>\n",
       "      <td>...</td>\n",
       "      <td>...</td>\n",
       "      <td>...</td>\n",
       "      <td>...</td>\n",
       "      <td>...</td>\n",
       "      <td>...</td>\n",
       "      <td>...</td>\n",
       "      <td>...</td>\n",
       "      <td>...</td>\n",
       "      <td>...</td>\n",
       "      <td>...</td>\n",
       "      <td>...</td>\n",
       "      <td>...</td>\n",
       "      <td>...</td>\n",
       "      <td>...</td>\n",
       "      <td>...</td>\n",
       "    </tr>\n",
       "    <tr>\n",
       "      <th>21516</th>\n",
       "      <td>-0.370138</td>\n",
       "      <td>0.272334</td>\n",
       "      <td>0.746790</td>\n",
       "      <td>9.555667</td>\n",
       "      <td>-0.055671</td>\n",
       "      <td>0.320223</td>\n",
       "      <td>1.290039</td>\n",
       "      <td>-0.241446</td>\n",
       "      <td>2.727743</td>\n",
       "      <td>-0.604974</td>\n",
       "      <td>...</td>\n",
       "      <td>-0.211564</td>\n",
       "      <td>-0.118899</td>\n",
       "      <td>-0.126508</td>\n",
       "      <td>0.943906</td>\n",
       "      <td>-0.742863</td>\n",
       "      <td>-0.191721</td>\n",
       "      <td>-0.178149</td>\n",
       "      <td>-0.227948</td>\n",
       "      <td>-0.887996</td>\n",
       "      <td>-0.941343</td>\n",
       "    </tr>\n",
       "    <tr>\n",
       "      <th>21517</th>\n",
       "      <td>-0.143430</td>\n",
       "      <td>-0.079448</td>\n",
       "      <td>-0.452342</td>\n",
       "      <td>32.317043</td>\n",
       "      <td>0.768866</td>\n",
       "      <td>2.200769</td>\n",
       "      <td>3.393315</td>\n",
       "      <td>-0.900944</td>\n",
       "      <td>5.523583</td>\n",
       "      <td>-0.569119</td>\n",
       "      <td>...</td>\n",
       "      <td>-0.211564</td>\n",
       "      <td>-0.118899</td>\n",
       "      <td>-0.126508</td>\n",
       "      <td>0.943906</td>\n",
       "      <td>-0.742863</td>\n",
       "      <td>-0.191721</td>\n",
       "      <td>-0.178149</td>\n",
       "      <td>-0.227948</td>\n",
       "      <td>-0.887996</td>\n",
       "      <td>0.855911</td>\n",
       "    </tr>\n",
       "    <tr>\n",
       "      <th>21518</th>\n",
       "      <td>1.841008</td>\n",
       "      <td>0.107611</td>\n",
       "      <td>0.746790</td>\n",
       "      <td>10.569788</td>\n",
       "      <td>-1.153509</td>\n",
       "      <td>1.516934</td>\n",
       "      <td>-0.212300</td>\n",
       "      <td>-0.241446</td>\n",
       "      <td>2.028783</td>\n",
       "      <td>-0.602147</td>\n",
       "      <td>...</td>\n",
       "      <td>-0.211564</td>\n",
       "      <td>-0.118899</td>\n",
       "      <td>-0.126508</td>\n",
       "      <td>-1.059427</td>\n",
       "      <td>1.346143</td>\n",
       "      <td>-0.191721</td>\n",
       "      <td>-0.178149</td>\n",
       "      <td>-0.227948</td>\n",
       "      <td>1.254024</td>\n",
       "      <td>0.855911</td>\n",
       "    </tr>\n",
       "    <tr>\n",
       "      <th>21519</th>\n",
       "      <td>-0.370138</td>\n",
       "      <td>-1.017532</td>\n",
       "      <td>0.746790</td>\n",
       "      <td>16.331496</td>\n",
       "      <td>-0.055671</td>\n",
       "      <td>2.542687</td>\n",
       "      <td>-0.212300</td>\n",
       "      <td>0.222558</td>\n",
       "      <td>3.164593</td>\n",
       "      <td>-0.593486</td>\n",
       "      <td>...</td>\n",
       "      <td>-0.211564</td>\n",
       "      <td>-0.118899</td>\n",
       "      <td>-0.126508</td>\n",
       "      <td>-1.059427</td>\n",
       "      <td>-0.742863</td>\n",
       "      <td>-0.191721</td>\n",
       "      <td>5.613293</td>\n",
       "      <td>-0.227948</td>\n",
       "      <td>-0.352491</td>\n",
       "      <td>0.855911</td>\n",
       "    </tr>\n",
       "    <tr>\n",
       "      <th>21520</th>\n",
       "      <td>-0.370138</td>\n",
       "      <td>-0.816514</td>\n",
       "      <td>-0.452342</td>\n",
       "      <td>35.922806</td>\n",
       "      <td>-0.055671</td>\n",
       "      <td>1.687893</td>\n",
       "      <td>-0.813236</td>\n",
       "      <td>0.728959</td>\n",
       "      <td>4.300403</td>\n",
       "      <td>-0.559466</td>\n",
       "      <td>...</td>\n",
       "      <td>-0.211564</td>\n",
       "      <td>-0.118899</td>\n",
       "      <td>-0.126508</td>\n",
       "      <td>0.943906</td>\n",
       "      <td>-0.742863</td>\n",
       "      <td>-0.191721</td>\n",
       "      <td>-0.178149</td>\n",
       "      <td>-0.227948</td>\n",
       "      <td>-0.887996</td>\n",
       "      <td>0.855911</td>\n",
       "    </tr>\n",
       "  </tbody>\n",
       "</table>\n",
       "<p>21521 rows × 28 columns</p>\n",
       "</div>"
      ],
      "text/plain": [
       "        company     level     title  totalyearlycompensation  location  \\\n",
       "0     -0.143430  0.054564  0.447007                 1.517822  1.065329   \n",
       "1      0.471923 -1.595458  0.447007                -0.465347  0.569680   \n",
       "2     -0.143430  0.009894  0.447007                 1.044566  0.754969   \n",
       "3      0.471923 -1.592666  0.447007                 0.180685  0.880039   \n",
       "4     -1.064986 -0.336304  0.447007                -0.082235  0.768866   \n",
       "...         ...       ...       ...                      ...       ...   \n",
       "21516 -0.370138  0.272334  0.746790                 9.555667 -0.055671   \n",
       "21517 -0.143430 -0.079448 -0.452342                32.317043  0.768866   \n",
       "21518  1.841008  0.107611  0.746790                10.569788 -1.153509   \n",
       "21519 -0.370138 -1.017532  0.746790                16.331496 -0.055671   \n",
       "21520 -0.370138 -0.816514 -0.452342                35.922806 -0.055671   \n",
       "\n",
       "       yearsofexperience  yearsatcompany       tag  basesalary  \\\n",
       "0              -0.363612        0.689104 -0.533509    1.329823   \n",
       "1              -0.705530       -0.212300 -0.611236   -0.172942   \n",
       "2              -0.192653        0.989572 -0.241446    0.753181   \n",
       "3              -0.534571        0.388636 -1.482715    0.526019   \n",
       "4              -0.363612       -0.813236 -0.241446    0.543493   \n",
       "...                  ...             ...       ...         ...   \n",
       "21516           0.320223        1.290039 -0.241446    2.727743   \n",
       "21517           2.200769        3.393315 -0.900944    5.523583   \n",
       "21518           1.516934       -0.212300 -0.241446    2.028783   \n",
       "21519           2.542687       -0.212300  0.222558    3.164593   \n",
       "21520           1.687893       -0.813236  0.728959    4.300403   \n",
       "\n",
       "       stockgrantvalue  ...  Doctorate_Degree  Highschool  Some_College  \\\n",
       "0             1.379429  ...          4.726695   -0.118899     -0.126508   \n",
       "1            -0.606353  ...         -0.211564   -0.118899     -0.126508   \n",
       "2             1.103626  ...         -0.211564   -0.118899     -0.126508   \n",
       "3            -0.096117  ...         -0.211564   -0.118899     -0.126508   \n",
       "4            -0.316760  ...         -0.211564   -0.118899     -0.126508   \n",
       "...                ...  ...               ...         ...           ...   \n",
       "21516        -0.604974  ...         -0.211564   -0.118899     -0.126508   \n",
       "21517        -0.569119  ...         -0.211564   -0.118899     -0.126508   \n",
       "21518        -0.602147  ...         -0.211564   -0.118899     -0.126508   \n",
       "21519        -0.593486  ...         -0.211564   -0.118899     -0.126508   \n",
       "21520        -0.559466  ...         -0.211564   -0.118899     -0.126508   \n",
       "\n",
       "       Race_Asian  Race_White  Race_Two_Or_More  Race_Black  Race_Hispanic  \\\n",
       "0        0.943906   -0.742863         -0.191721   -0.178149      -0.227948   \n",
       "1       -1.059427   -0.742863          5.215915   -0.178149      -0.227948   \n",
       "2        0.943906   -0.742863         -0.191721   -0.178149      -0.227948   \n",
       "3        0.943906   -0.742863         -0.191721   -0.178149      -0.227948   \n",
       "4       -1.059427    1.346143         -0.191721   -0.178149      -0.227948   \n",
       "...           ...         ...               ...         ...            ...   \n",
       "21516    0.943906   -0.742863         -0.191721   -0.178149      -0.227948   \n",
       "21517    0.943906   -0.742863         -0.191721   -0.178149      -0.227948   \n",
       "21518   -1.059427    1.346143         -0.191721   -0.178149      -0.227948   \n",
       "21519   -1.059427   -0.742863         -0.191721    5.613293      -0.227948   \n",
       "21520    0.943906   -0.742863         -0.191721   -0.178149      -0.227948   \n",
       "\n",
       "           Race  Education  \n",
       "0     -0.887996   1.754538  \n",
       "1      0.718519  -0.941343  \n",
       "2     -0.887996  -0.941343  \n",
       "3     -0.887996   0.855911  \n",
       "4      1.254024  -0.941343  \n",
       "...         ...        ...  \n",
       "21516 -0.887996  -0.941343  \n",
       "21517 -0.887996   0.855911  \n",
       "21518  1.254024   0.855911  \n",
       "21519 -0.352491   0.855911  \n",
       "21520 -0.887996   0.855911  \n",
       "\n",
       "[21521 rows x 28 columns]"
      ]
     },
     "execution_count": 141,
     "metadata": {},
     "output_type": "execute_result"
    }
   ],
   "source": [
    "df =pd.read_csv('../Data_CSVs/Real_Data.csv')\n",
    "df"
   ]
  },
  {
   "cell_type": "code",
   "execution_count": 70,
   "id": "eb8c73ff",
   "metadata": {},
   "outputs": [],
   "source": [
    "y= real_df ['totalyearlycompensation']\n",
    "X = real_df.drop(columns= ['totalyearlycompensation'])"
   ]
  },
  {
   "cell_type": "code",
   "execution_count": 71,
   "id": "b2af0566",
   "metadata": {},
   "outputs": [],
   "source": [
    "X_train, X_test, y_train, y_test = train_test_split(X,y, test_size = 0.20)"
   ]
  },
  {
   "cell_type": "code",
   "execution_count": 72,
   "id": "0a796769",
   "metadata": {},
   "outputs": [
    {
     "name": "stdout",
     "output_type": "stream",
     "text": [
      "(17216, 27) (4305, 27) (17216,) (4305,)\n"
     ]
    }
   ],
   "source": [
    "print(X_train.shape, X_test.shape, y_train.shape, y_test.shape)"
   ]
  },
  {
   "cell_type": "code",
   "execution_count": 79,
   "id": "20f43021",
   "metadata": {},
   "outputs": [
    {
     "data": {
      "text/html": [
       "<style>#sk-container-id-6 {color: black;background-color: white;}#sk-container-id-6 pre{padding: 0;}#sk-container-id-6 div.sk-toggleable {background-color: white;}#sk-container-id-6 label.sk-toggleable__label {cursor: pointer;display: block;width: 100%;margin-bottom: 0;padding: 0.3em;box-sizing: border-box;text-align: center;}#sk-container-id-6 label.sk-toggleable__label-arrow:before {content: \"▸\";float: left;margin-right: 0.25em;color: #696969;}#sk-container-id-6 label.sk-toggleable__label-arrow:hover:before {color: black;}#sk-container-id-6 div.sk-estimator:hover label.sk-toggleable__label-arrow:before {color: black;}#sk-container-id-6 div.sk-toggleable__content {max-height: 0;max-width: 0;overflow: hidden;text-align: left;background-color: #f0f8ff;}#sk-container-id-6 div.sk-toggleable__content pre {margin: 0.2em;color: black;border-radius: 0.25em;background-color: #f0f8ff;}#sk-container-id-6 input.sk-toggleable__control:checked~div.sk-toggleable__content {max-height: 200px;max-width: 100%;overflow: auto;}#sk-container-id-6 input.sk-toggleable__control:checked~label.sk-toggleable__label-arrow:before {content: \"▾\";}#sk-container-id-6 div.sk-estimator input.sk-toggleable__control:checked~label.sk-toggleable__label {background-color: #d4ebff;}#sk-container-id-6 div.sk-label input.sk-toggleable__control:checked~label.sk-toggleable__label {background-color: #d4ebff;}#sk-container-id-6 input.sk-hidden--visually {border: 0;clip: rect(1px 1px 1px 1px);clip: rect(1px, 1px, 1px, 1px);height: 1px;margin: -1px;overflow: hidden;padding: 0;position: absolute;width: 1px;}#sk-container-id-6 div.sk-estimator {font-family: monospace;background-color: #f0f8ff;border: 1px dotted black;border-radius: 0.25em;box-sizing: border-box;margin-bottom: 0.5em;}#sk-container-id-6 div.sk-estimator:hover {background-color: #d4ebff;}#sk-container-id-6 div.sk-parallel-item::after {content: \"\";width: 100%;border-bottom: 1px solid gray;flex-grow: 1;}#sk-container-id-6 div.sk-label:hover label.sk-toggleable__label {background-color: #d4ebff;}#sk-container-id-6 div.sk-serial::before {content: \"\";position: absolute;border-left: 1px solid gray;box-sizing: border-box;top: 0;bottom: 0;left: 50%;z-index: 0;}#sk-container-id-6 div.sk-serial {display: flex;flex-direction: column;align-items: center;background-color: white;padding-right: 0.2em;padding-left: 0.2em;position: relative;}#sk-container-id-6 div.sk-item {position: relative;z-index: 1;}#sk-container-id-6 div.sk-parallel {display: flex;align-items: stretch;justify-content: center;background-color: white;position: relative;}#sk-container-id-6 div.sk-item::before, #sk-container-id-6 div.sk-parallel-item::before {content: \"\";position: absolute;border-left: 1px solid gray;box-sizing: border-box;top: 0;bottom: 0;left: 50%;z-index: -1;}#sk-container-id-6 div.sk-parallel-item {display: flex;flex-direction: column;z-index: 1;position: relative;background-color: white;}#sk-container-id-6 div.sk-parallel-item:first-child::after {align-self: flex-end;width: 50%;}#sk-container-id-6 div.sk-parallel-item:last-child::after {align-self: flex-start;width: 50%;}#sk-container-id-6 div.sk-parallel-item:only-child::after {width: 0;}#sk-container-id-6 div.sk-dashed-wrapped {border: 1px dashed gray;margin: 0 0.4em 0.5em 0.4em;box-sizing: border-box;padding-bottom: 0.4em;background-color: white;}#sk-container-id-6 div.sk-label label {font-family: monospace;font-weight: bold;display: inline-block;line-height: 1.2em;}#sk-container-id-6 div.sk-label-container {text-align: center;}#sk-container-id-6 div.sk-container {/* jupyter's `normalize.less` sets `[hidden] { display: none; }` but bootstrap.min.css set `[hidden] { display: none !important; }` so we also need the `!important` here to be able to override the default hidden behavior on the sphinx rendered scikit-learn.org. See: https://github.com/scikit-learn/scikit-learn/issues/21755 */display: inline-block !important;position: relative;}#sk-container-id-6 div.sk-text-repr-fallback {display: none;}</style><div id=\"sk-container-id-6\" class=\"sk-top-container\"><div class=\"sk-text-repr-fallback\"><pre>RandomForestRegressor(n_estimators=10, random_state=42)</pre><b>In a Jupyter environment, please rerun this cell to show the HTML representation or trust the notebook. <br />On GitHub, the HTML representation is unable to render, please try loading this page with nbviewer.org.</b></div><div class=\"sk-container\" hidden><div class=\"sk-item\"><div class=\"sk-estimator sk-toggleable\"><input class=\"sk-toggleable__control sk-hidden--visually\" id=\"sk-estimator-id-6\" type=\"checkbox\" checked><label for=\"sk-estimator-id-6\" class=\"sk-toggleable__label sk-toggleable__label-arrow\">RandomForestRegressor</label><div class=\"sk-toggleable__content\"><pre>RandomForestRegressor(n_estimators=10, random_state=42)</pre></div></div></div></div></div>"
      ],
      "text/plain": [
       "RandomForestRegressor(n_estimators=10, random_state=42)"
      ]
     },
     "execution_count": 79,
     "metadata": {},
     "output_type": "execute_result"
    }
   ],
   "source": [
    "regressor = RandomForestRegressor (n_estimators = 10, random_state = 42)\n",
    "regressor.fit(X_train, y_train)"
   ]
  },
  {
   "cell_type": "code",
   "execution_count": 82,
   "id": "34445c94",
   "metadata": {},
   "outputs": [
    {
     "data": {
      "text/plain": [
       "array([-0.65915718,  1.07761842,  0.27308266, ...,  1.21283451,\n",
       "       -0.26252331, -0.06645997])"
      ]
     },
     "execution_count": 82,
     "metadata": {},
     "output_type": "execute_result"
    }
   ],
   "source": [
    "y_pred = regressor.predict(X_test)\n",
    "y_pred"
   ]
  },
  {
   "cell_type": "code",
   "execution_count": 84,
   "id": "2394aa33",
   "metadata": {},
   "outputs": [
    {
     "data": {
      "text/plain": [
       "0.9272885256564731"
      ]
     },
     "execution_count": 84,
     "metadata": {},
     "output_type": "execute_result"
    }
   ],
   "source": [
    "from sklearn.metrics import r2_score\n",
    "r2_score(y_test, y_pred)"
   ]
  },
  {
   "cell_type": "code",
   "execution_count": 86,
   "id": "82b8fabf",
   "metadata": {},
   "outputs": [
    {
     "data": {
      "text/plain": [
       "<function matplotlib.pyplot.show(close=None, block=None)>"
      ]
     },
     "execution_count": 86,
     "metadata": {},
     "output_type": "execute_result"
    },
    {
     "data": {
      "image/png": "[encoded data removed]",
      "text/plain": [
       "<Figure size 900x700 with 1 Axes>"
      ]
     },
     "metadata": {},
     "output_type": "display_data"
    }
   ],
   "source": [
    "plt.figure(figsize=(9,7))\n",
    "plt.hist(y_test,bins = 100, alpha = 0.5)\n",
    "plt.hist(y_pred, bins = 100, alpha = 0.5)\n",
    "plt.xlabel('Predicted Salary')\n",
    "plt.ylabel('Original Salary ')\n",
    "plt.title('Original vs Predicted Salary')\n",
    "plt.show"
   ]
  },
  {
   "cell_type": "code",
   "execution_count": null,
   "id": "d1422a1b",
   "metadata": {},
   "outputs": [],
   "source": []
  },
  {
   "cell_type": "markdown",
   "id": "1983f09c",
   "metadata": {},
   "source": [
    "# Random Forest Model of Data Set"
   ]
  },
  {
   "cell_type": "code",
   "execution_count": 133,
   "id": "400d064e",
   "metadata": {},
   "outputs": [],
   "source": [
    "salary_data = pd.read_csv(\"../Data_CSVs/Cleaned_Official_Data.csv\")"
   ]
  },
  {
   "cell_type": "code",
   "execution_count": 134,
   "id": "3af90af1",
   "metadata": {},
   "outputs": [],
   "source": [
    "X= salary_data[['company', 'yearsofexperience', 'yearsatcompany', 'gender']]\n",
    "y= salary_data['totalyearlycompensation']"
   ]
  },
  {
   "cell_type": "code",
   "execution_count": 137,
   "id": "0304d159",
   "metadata": {},
   "outputs": [],
   "source": [
    "from sklearn.preprocessing import LabelEncoder\n",
    "le = LabelEncoder()\n",
    "salary_data['company'] = le.fit_transform(salary_data['company'])\n",
    "salary_data['gender'] = le.fit_transform(salary_data['gender'])\n",
    "salary_data['location'] = le.fit_transform(salary_data['location'])\n",
    "salary_data['Education_Level'] = le.fit_transform(salary_data['Education_Level'])\n",
    "salary_data['Race'] = le.fit_transform(salary_data['Race'])\n",
    "salary_data['title'] = le.fit_transform(salary_data['title'])"
   ]
  },
  {
   "cell_type": "code",
   "execution_count": 138,
   "id": "026fd846",
   "metadata": {},
   "outputs": [],
   "source": [
    "X_train, X_test, y_train, y_test = train_test_split(X,y, test_size = 0.20)"
   ]
  },
  {
   "cell_type": "code",
   "execution_count": 139,
   "id": "d97fb5f1",
   "metadata": {},
   "outputs": [
    {
     "name": "stdout",
     "output_type": "stream",
     "text": [
      "(33203, 4) (8301, 4) (33203,) (8301,)\n"
     ]
    }
   ],
   "source": [
    "print(X_train.shape, X_test.shape, y_train.shape, y_test.shape)"
   ]
  },
  {
   "cell_type": "code",
   "execution_count": 140,
   "id": "0e5da22d",
   "metadata": {},
   "outputs": [
    {
     "ename": "ValueError",
     "evalue": "could not convert string to float: 'Tripadvisor'",
     "output_type": "error",
     "traceback": [
      "\u001b[0;31m---------------------------------------------------------------------------\u001b[0m",
      "\u001b[0;31mValueError\u001b[0m                                Traceback (most recent call last)",
      "Cell \u001b[0;32mIn [140], line 2\u001b[0m\n\u001b[1;32m      1\u001b[0m regressor \u001b[38;5;241m=\u001b[39m RandomForestRegressor (n_estimators \u001b[38;5;241m=\u001b[39m \u001b[38;5;241m10\u001b[39m, random_state \u001b[38;5;241m=\u001b[39m \u001b[38;5;241m42\u001b[39m)\n\u001b[0;32m----> 2\u001b[0m \u001b[43mregressor\u001b[49m\u001b[38;5;241;43m.\u001b[39;49m\u001b[43mfit\u001b[49m\u001b[43m(\u001b[49m\u001b[43mX_train\u001b[49m\u001b[43m,\u001b[49m\u001b[43m \u001b[49m\u001b[43my_train\u001b[49m\u001b[43m)\u001b[49m\n",
      "File \u001b[0;32m~/.local/lib/python3.10/site-packages/sklearn/ensemble/_forest.py:345\u001b[0m, in \u001b[0;36mBaseForest.fit\u001b[0;34m(self, X, y, sample_weight)\u001b[0m\n\u001b[1;32m    343\u001b[0m \u001b[38;5;28;01mif\u001b[39;00m issparse(y):\n\u001b[1;32m    344\u001b[0m     \u001b[38;5;28;01mraise\u001b[39;00m \u001b[38;5;167;01mValueError\u001b[39;00m(\u001b[38;5;124m\"\u001b[39m\u001b[38;5;124msparse multilabel-indicator for y is not supported.\u001b[39m\u001b[38;5;124m\"\u001b[39m)\n\u001b[0;32m--> 345\u001b[0m X, y \u001b[38;5;241m=\u001b[39m \u001b[38;5;28;43mself\u001b[39;49m\u001b[38;5;241;43m.\u001b[39;49m\u001b[43m_validate_data\u001b[49m\u001b[43m(\u001b[49m\n\u001b[1;32m    346\u001b[0m \u001b[43m    \u001b[49m\u001b[43mX\u001b[49m\u001b[43m,\u001b[49m\u001b[43m \u001b[49m\u001b[43my\u001b[49m\u001b[43m,\u001b[49m\u001b[43m \u001b[49m\u001b[43mmulti_output\u001b[49m\u001b[38;5;241;43m=\u001b[39;49m\u001b[38;5;28;43;01mTrue\u001b[39;49;00m\u001b[43m,\u001b[49m\u001b[43m \u001b[49m\u001b[43maccept_sparse\u001b[49m\u001b[38;5;241;43m=\u001b[39;49m\u001b[38;5;124;43m\"\u001b[39;49m\u001b[38;5;124;43mcsc\u001b[39;49m\u001b[38;5;124;43m\"\u001b[39;49m\u001b[43m,\u001b[49m\u001b[43m \u001b[49m\u001b[43mdtype\u001b[49m\u001b[38;5;241;43m=\u001b[39;49m\u001b[43mDTYPE\u001b[49m\n\u001b[1;32m    347\u001b[0m \u001b[43m\u001b[49m\u001b[43m)\u001b[49m\n\u001b[1;32m    348\u001b[0m \u001b[38;5;28;01mif\u001b[39;00m sample_weight \u001b[38;5;129;01mis\u001b[39;00m \u001b[38;5;129;01mnot\u001b[39;00m \u001b[38;5;28;01mNone\u001b[39;00m:\n\u001b[1;32m    349\u001b[0m     sample_weight \u001b[38;5;241m=\u001b[39m _check_sample_weight(sample_weight, X)\n",
      "File \u001b[0;32m~/.local/lib/python3.10/site-packages/sklearn/base.py:584\u001b[0m, in \u001b[0;36mBaseEstimator._validate_data\u001b[0;34m(self, X, y, reset, validate_separately, **check_params)\u001b[0m\n\u001b[1;32m    582\u001b[0m         y \u001b[38;5;241m=\u001b[39m check_array(y, input_name\u001b[38;5;241m=\u001b[39m\u001b[38;5;124m\"\u001b[39m\u001b[38;5;124my\u001b[39m\u001b[38;5;124m\"\u001b[39m, \u001b[38;5;241m*\u001b[39m\u001b[38;5;241m*\u001b[39mcheck_y_params)\n\u001b[1;32m    583\u001b[0m     \u001b[38;5;28;01melse\u001b[39;00m:\n\u001b[0;32m--> 584\u001b[0m         X, y \u001b[38;5;241m=\u001b[39m \u001b[43mcheck_X_y\u001b[49m\u001b[43m(\u001b[49m\u001b[43mX\u001b[49m\u001b[43m,\u001b[49m\u001b[43m \u001b[49m\u001b[43my\u001b[49m\u001b[43m,\u001b[49m\u001b[43m \u001b[49m\u001b[38;5;241;43m*\u001b[39;49m\u001b[38;5;241;43m*\u001b[39;49m\u001b[43mcheck_params\u001b[49m\u001b[43m)\u001b[49m\n\u001b[1;32m    585\u001b[0m     out \u001b[38;5;241m=\u001b[39m X, y\n\u001b[1;32m    587\u001b[0m \u001b[38;5;28;01mif\u001b[39;00m \u001b[38;5;129;01mnot\u001b[39;00m no_val_X \u001b[38;5;129;01mand\u001b[39;00m check_params\u001b[38;5;241m.\u001b[39mget(\u001b[38;5;124m\"\u001b[39m\u001b[38;5;124mensure_2d\u001b[39m\u001b[38;5;124m\"\u001b[39m, \u001b[38;5;28;01mTrue\u001b[39;00m):\n",
      "File \u001b[0;32m~/.local/lib/python3.10/site-packages/sklearn/utils/validation.py:1106\u001b[0m, in \u001b[0;36mcheck_X_y\u001b[0;34m(X, y, accept_sparse, accept_large_sparse, dtype, order, copy, force_all_finite, ensure_2d, allow_nd, multi_output, ensure_min_samples, ensure_min_features, y_numeric, estimator)\u001b[0m\n\u001b[1;32m   1101\u001b[0m         estimator_name \u001b[38;5;241m=\u001b[39m _check_estimator_name(estimator)\n\u001b[1;32m   1102\u001b[0m     \u001b[38;5;28;01mraise\u001b[39;00m \u001b[38;5;167;01mValueError\u001b[39;00m(\n\u001b[1;32m   1103\u001b[0m         \u001b[38;5;124mf\u001b[39m\u001b[38;5;124m\"\u001b[39m\u001b[38;5;132;01m{\u001b[39;00mestimator_name\u001b[38;5;132;01m}\u001b[39;00m\u001b[38;5;124m requires y to be passed, but the target y is None\u001b[39m\u001b[38;5;124m\"\u001b[39m\n\u001b[1;32m   1104\u001b[0m     )\n\u001b[0;32m-> 1106\u001b[0m X \u001b[38;5;241m=\u001b[39m \u001b[43mcheck_array\u001b[49m\u001b[43m(\u001b[49m\n\u001b[1;32m   1107\u001b[0m \u001b[43m    \u001b[49m\u001b[43mX\u001b[49m\u001b[43m,\u001b[49m\n\u001b[1;32m   1108\u001b[0m \u001b[43m    \u001b[49m\u001b[43maccept_sparse\u001b[49m\u001b[38;5;241;43m=\u001b[39;49m\u001b[43maccept_sparse\u001b[49m\u001b[43m,\u001b[49m\n\u001b[1;32m   1109\u001b[0m \u001b[43m    \u001b[49m\u001b[43maccept_large_sparse\u001b[49m\u001b[38;5;241;43m=\u001b[39;49m\u001b[43maccept_large_sparse\u001b[49m\u001b[43m,\u001b[49m\n\u001b[1;32m   1110\u001b[0m \u001b[43m    \u001b[49m\u001b[43mdtype\u001b[49m\u001b[38;5;241;43m=\u001b[39;49m\u001b[43mdtype\u001b[49m\u001b[43m,\u001b[49m\n\u001b[1;32m   1111\u001b[0m \u001b[43m    \u001b[49m\u001b[43morder\u001b[49m\u001b[38;5;241;43m=\u001b[39;49m\u001b[43morder\u001b[49m\u001b[43m,\u001b[49m\n\u001b[1;32m   1112\u001b[0m \u001b[43m    \u001b[49m\u001b[43mcopy\u001b[49m\u001b[38;5;241;43m=\u001b[39;49m\u001b[43mcopy\u001b[49m\u001b[43m,\u001b[49m\n\u001b[1;32m   1113\u001b[0m \u001b[43m    \u001b[49m\u001b[43mforce_all_finite\u001b[49m\u001b[38;5;241;43m=\u001b[39;49m\u001b[43mforce_all_finite\u001b[49m\u001b[43m,\u001b[49m\n\u001b[1;32m   1114\u001b[0m \u001b[43m    \u001b[49m\u001b[43mensure_2d\u001b[49m\u001b[38;5;241;43m=\u001b[39;49m\u001b[43mensure_2d\u001b[49m\u001b[43m,\u001b[49m\n\u001b[1;32m   1115\u001b[0m \u001b[43m    \u001b[49m\u001b[43mallow_nd\u001b[49m\u001b[38;5;241;43m=\u001b[39;49m\u001b[43mallow_nd\u001b[49m\u001b[43m,\u001b[49m\n\u001b[1;32m   1116\u001b[0m \u001b[43m    \u001b[49m\u001b[43mensure_min_samples\u001b[49m\u001b[38;5;241;43m=\u001b[39;49m\u001b[43mensure_min_samples\u001b[49m\u001b[43m,\u001b[49m\n\u001b[1;32m   1117\u001b[0m \u001b[43m    \u001b[49m\u001b[43mensure_min_features\u001b[49m\u001b[38;5;241;43m=\u001b[39;49m\u001b[43mensure_min_features\u001b[49m\u001b[43m,\u001b[49m\n\u001b[1;32m   1118\u001b[0m \u001b[43m    \u001b[49m\u001b[43mestimator\u001b[49m\u001b[38;5;241;43m=\u001b[39;49m\u001b[43mestimator\u001b[49m\u001b[43m,\u001b[49m\n\u001b[1;32m   1119\u001b[0m \u001b[43m    \u001b[49m\u001b[43minput_name\u001b[49m\u001b[38;5;241;43m=\u001b[39;49m\u001b[38;5;124;43m\"\u001b[39;49m\u001b[38;5;124;43mX\u001b[39;49m\u001b[38;5;124;43m\"\u001b[39;49m\u001b[43m,\u001b[49m\n\u001b[1;32m   1120\u001b[0m \u001b[43m\u001b[49m\u001b[43m)\u001b[49m\n\u001b[1;32m   1122\u001b[0m y \u001b[38;5;241m=\u001b[39m _check_y(y, multi_output\u001b[38;5;241m=\u001b[39mmulti_output, y_numeric\u001b[38;5;241m=\u001b[39my_numeric, estimator\u001b[38;5;241m=\u001b[39mestimator)\n\u001b[1;32m   1124\u001b[0m check_consistent_length(X, y)\n",
      "File \u001b[0;32m~/.local/lib/python3.10/site-packages/sklearn/utils/validation.py:879\u001b[0m, in \u001b[0;36mcheck_array\u001b[0;34m(array, accept_sparse, accept_large_sparse, dtype, order, copy, force_all_finite, ensure_2d, allow_nd, ensure_min_samples, ensure_min_features, estimator, input_name)\u001b[0m\n\u001b[1;32m    877\u001b[0m         array \u001b[38;5;241m=\u001b[39m xp\u001b[38;5;241m.\u001b[39mastype(array, dtype, copy\u001b[38;5;241m=\u001b[39m\u001b[38;5;28;01mFalse\u001b[39;00m)\n\u001b[1;32m    878\u001b[0m     \u001b[38;5;28;01melse\u001b[39;00m:\n\u001b[0;32m--> 879\u001b[0m         array \u001b[38;5;241m=\u001b[39m \u001b[43m_asarray_with_order\u001b[49m\u001b[43m(\u001b[49m\u001b[43marray\u001b[49m\u001b[43m,\u001b[49m\u001b[43m \u001b[49m\u001b[43morder\u001b[49m\u001b[38;5;241;43m=\u001b[39;49m\u001b[43morder\u001b[49m\u001b[43m,\u001b[49m\u001b[43m \u001b[49m\u001b[43mdtype\u001b[49m\u001b[38;5;241;43m=\u001b[39;49m\u001b[43mdtype\u001b[49m\u001b[43m,\u001b[49m\u001b[43m \u001b[49m\u001b[43mxp\u001b[49m\u001b[38;5;241;43m=\u001b[39;49m\u001b[43mxp\u001b[49m\u001b[43m)\u001b[49m\n\u001b[1;32m    880\u001b[0m \u001b[38;5;28;01mexcept\u001b[39;00m ComplexWarning \u001b[38;5;28;01mas\u001b[39;00m complex_warning:\n\u001b[1;32m    881\u001b[0m     \u001b[38;5;28;01mraise\u001b[39;00m \u001b[38;5;167;01mValueError\u001b[39;00m(\n\u001b[1;32m    882\u001b[0m         \u001b[38;5;124m\"\u001b[39m\u001b[38;5;124mComplex data not supported\u001b[39m\u001b[38;5;130;01m\\n\u001b[39;00m\u001b[38;5;132;01m{}\u001b[39;00m\u001b[38;5;130;01m\\n\u001b[39;00m\u001b[38;5;124m\"\u001b[39m\u001b[38;5;241m.\u001b[39mformat(array)\n\u001b[1;32m    883\u001b[0m     ) \u001b[38;5;28;01mfrom\u001b[39;00m \u001b[38;5;21;01mcomplex_warning\u001b[39;00m\n",
      "File \u001b[0;32m~/.local/lib/python3.10/site-packages/sklearn/utils/_array_api.py:185\u001b[0m, in \u001b[0;36m_asarray_with_order\u001b[0;34m(array, dtype, order, copy, xp)\u001b[0m\n\u001b[1;32m    182\u001b[0m     xp, _ \u001b[38;5;241m=\u001b[39m get_namespace(array)\n\u001b[1;32m    183\u001b[0m \u001b[38;5;28;01mif\u001b[39;00m xp\u001b[38;5;241m.\u001b[39m\u001b[38;5;18m__name__\u001b[39m \u001b[38;5;129;01min\u001b[39;00m {\u001b[38;5;124m\"\u001b[39m\u001b[38;5;124mnumpy\u001b[39m\u001b[38;5;124m\"\u001b[39m, \u001b[38;5;124m\"\u001b[39m\u001b[38;5;124mnumpy.array_api\u001b[39m\u001b[38;5;124m\"\u001b[39m}:\n\u001b[1;32m    184\u001b[0m     \u001b[38;5;66;03m# Use NumPy API to support order\u001b[39;00m\n\u001b[0;32m--> 185\u001b[0m     array \u001b[38;5;241m=\u001b[39m \u001b[43mnumpy\u001b[49m\u001b[38;5;241;43m.\u001b[39;49m\u001b[43masarray\u001b[49m\u001b[43m(\u001b[49m\u001b[43marray\u001b[49m\u001b[43m,\u001b[49m\u001b[43m \u001b[49m\u001b[43morder\u001b[49m\u001b[38;5;241;43m=\u001b[39;49m\u001b[43morder\u001b[49m\u001b[43m,\u001b[49m\u001b[43m \u001b[49m\u001b[43mdtype\u001b[49m\u001b[38;5;241;43m=\u001b[39;49m\u001b[43mdtype\u001b[49m\u001b[43m)\u001b[49m\n\u001b[1;32m    186\u001b[0m     \u001b[38;5;28;01mreturn\u001b[39;00m xp\u001b[38;5;241m.\u001b[39masarray(array, copy\u001b[38;5;241m=\u001b[39mcopy)\n\u001b[1;32m    187\u001b[0m \u001b[38;5;28;01melse\u001b[39;00m:\n",
      "File \u001b[0;32m/usr/local/lib/python3.10/dist-packages/pandas/core/generic.py:2064\u001b[0m, in \u001b[0;36mNDFrame.__array__\u001b[0;34m(self, dtype)\u001b[0m\n\u001b[1;32m   2063\u001b[0m \u001b[38;5;28;01mdef\u001b[39;00m \u001b[38;5;21m__array__\u001b[39m(\u001b[38;5;28mself\u001b[39m, dtype: npt\u001b[38;5;241m.\u001b[39mDTypeLike \u001b[38;5;241m|\u001b[39m \u001b[38;5;28;01mNone\u001b[39;00m \u001b[38;5;241m=\u001b[39m \u001b[38;5;28;01mNone\u001b[39;00m) \u001b[38;5;241m-\u001b[39m\u001b[38;5;241m>\u001b[39m np\u001b[38;5;241m.\u001b[39mndarray:\n\u001b[0;32m-> 2064\u001b[0m     \u001b[38;5;28;01mreturn\u001b[39;00m \u001b[43mnp\u001b[49m\u001b[38;5;241;43m.\u001b[39;49m\u001b[43masarray\u001b[49m\u001b[43m(\u001b[49m\u001b[38;5;28;43mself\u001b[39;49m\u001b[38;5;241;43m.\u001b[39;49m\u001b[43m_values\u001b[49m\u001b[43m,\u001b[49m\u001b[43m \u001b[49m\u001b[43mdtype\u001b[49m\u001b[38;5;241;43m=\u001b[39;49m\u001b[43mdtype\u001b[49m\u001b[43m)\u001b[49m\n",
      "\u001b[0;31mValueError\u001b[0m: could not convert string to float: 'Tripadvisor'"
     ]
    }
   ],
   "source": [
    "regressor = RandomForestRegressor (n_estimators = 10, random_state = 42)\n",
    "regressor.fit(X_train, y_train)"
   ]
  },
  {
   "cell_type": "code",
   "execution_count": null,
   "id": "76281bc3",
   "metadata": {},
   "outputs": [],
   "source": []
  },
  {
   "cell_type": "code",
   "execution_count": null,
   "id": "56903c4e",
   "metadata": {},
   "outputs": [],
   "source": []
  },
  {
   "cell_type": "code",
   "execution_count": null,
   "id": "a67f87dd",
   "metadata": {},
   "outputs": [],
   "source": []
  },
  {
   "cell_type": "code",
   "execution_count": null,
   "id": "33ca0711",
   "metadata": {},
   "outputs": [],
   "source": []
  },
  {
   "cell_type": "code",
   "execution_count": null,
   "id": "2fb4026e",
   "metadata": {},
   "outputs": [],
   "source": []
  },
  {
   "cell_type": "code",
   "execution_count": null,
   "id": "5f217918",
   "metadata": {},
   "outputs": [],
   "source": []
  },
  {
   "cell_type": "code",
   "execution_count": null,
   "id": "1fd920b7",
   "metadata": {},
   "outputs": [],
   "source": []
  },
  {
   "cell_type": "code",
   "execution_count": 47,
   "id": "30e92c43",
   "metadata": {},
   "outputs": [],
   "source": [
    "y_train_pred = salary_rf.predict(X_train)"
   ]
  },
  {
   "cell_type": "code",
   "execution_count": 48,
   "id": "177fa9e9",
   "metadata": {},
   "outputs": [],
   "source": []
  },
  {
   "cell_type": "code",
   "execution_count": null,
   "id": "a9024afd",
   "metadata": {},
   "outputs": [],
   "source": []
  },
  {
   "cell_type": "code",
   "execution_count": 49,
   "id": "33f93e8f",
   "metadata": {},
   "outputs": [
    {
     "data": {
      "text/plain": [
       "array([160370.29248076, 337498.42857143, 180122.66666667, 149976.66666667,\n",
       "       125840.        , 190571.54345654, 315835.65834166, 180931.66666667,\n",
       "       142746.12995089, 191366.95387945])"
      ]
     },
     "execution_count": 49,
     "metadata": {},
     "output_type": "execute_result"
    }
   ],
   "source": [
    "y_test_pred[:10]"
   ]
  },
  {
   "cell_type": "code",
   "execution_count": 50,
   "id": "567e294f",
   "metadata": {},
   "outputs": [],
   "source": [
    "r2 = r2_score(y_test, y_test_pred)"
   ]
  },
  {
   "cell_type": "code",
   "execution_count": 51,
   "id": "d456a792",
   "metadata": {},
   "outputs": [
    {
     "data": {
      "text/plain": [
       "0.42728835688389266"
      ]
     },
     "execution_count": 51,
     "metadata": {},
     "output_type": "execute_result"
    }
   ],
   "source": [
    "r2"
   ]
  },
  {
   "cell_type": "code",
   "execution_count": 52,
   "id": "7f3d7133",
   "metadata": {},
   "outputs": [
    {
     "data": {
      "text/plain": [
       "<matplotlib.collections.PathCollection at 0x7effed6b66e0>"
      ]
     },
     "execution_count": 52,
     "metadata": {},
     "output_type": "execute_result"
    },
    {
     "data": {
      "image/png": "[encoded data removed]",
      "text/plain": [
       "<Figure size 1000x600 with 1 Axes>"
      ]
     },
     "metadata": {},
     "output_type": "display_data"
    }
   ],
   "source": [
    "plt.rcParams['figure.figsize'] = (10,6)\n",
    "x_ax = range(len(X_test))\n",
    "\n",
    "plt.scatter(x_ax, y_test, label = 'Oirignal')\n",
    "plt.scatter(x_ax, y_test_pred, label ='Predicted')"
   ]
  },
  {
   "cell_type": "code",
   "execution_count": null,
   "id": "3a11d783",
   "metadata": {},
   "outputs": [],
   "source": []
  },
  {
   "cell_type": "code",
   "execution_count": 28,
   "id": "8853bdb6",
   "metadata": {},
   "outputs": [
    {
     "data": {
      "text/html": [
       "<div>\n",
       "<style scoped>\n",
       "    .dataframe tbody tr th:only-of-type {\n",
       "        vertical-align: middle;\n",
       "    }\n",
       "\n",
       "    .dataframe tbody tr th {\n",
       "        vertical-align: top;\n",
       "    }\n",
       "\n",
       "    .dataframe thead th {\n",
       "        text-align: right;\n",
       "    }\n",
       "</style>\n",
       "<table border=\"1\" class=\"dataframe\">\n",
       "  <thead>\n",
       "    <tr style=\"text-align: right;\">\n",
       "      <th></th>\n",
       "      <th>company</th>\n",
       "      <th>level</th>\n",
       "      <th>title</th>\n",
       "      <th>totalyearlycompensation</th>\n",
       "      <th>location</th>\n",
       "      <th>yearsofexperience</th>\n",
       "      <th>yearsatcompany</th>\n",
       "      <th>tag</th>\n",
       "      <th>basesalary</th>\n",
       "      <th>stockgrantvalue</th>\n",
       "      <th>...</th>\n",
       "      <th>Doctorate_Degree</th>\n",
       "      <th>Highschool</th>\n",
       "      <th>Some_College</th>\n",
       "      <th>Race_Asian</th>\n",
       "      <th>Race_White</th>\n",
       "      <th>Race_Two_Or_More</th>\n",
       "      <th>Race_Black</th>\n",
       "      <th>Race_Hispanic</th>\n",
       "      <th>Race</th>\n",
       "      <th>Education</th>\n",
       "    </tr>\n",
       "  </thead>\n",
       "  <tbody>\n",
       "    <tr>\n",
       "      <th>0</th>\n",
       "      <td>-0.143430</td>\n",
       "      <td>0.054564</td>\n",
       "      <td>0.447007</td>\n",
       "      <td>1.517822</td>\n",
       "      <td>1.065329</td>\n",
       "      <td>-0.363612</td>\n",
       "      <td>0.689104</td>\n",
       "      <td>-0.533509</td>\n",
       "      <td>1.329823</td>\n",
       "      <td>1.379429</td>\n",
       "      <td>...</td>\n",
       "      <td>4.726695</td>\n",
       "      <td>-0.118899</td>\n",
       "      <td>-0.126508</td>\n",
       "      <td>0.943906</td>\n",
       "      <td>-0.742863</td>\n",
       "      <td>-0.191721</td>\n",
       "      <td>-0.178149</td>\n",
       "      <td>-0.227948</td>\n",
       "      <td>-0.887996</td>\n",
       "      <td>1.754538</td>\n",
       "    </tr>\n",
       "    <tr>\n",
       "      <th>1</th>\n",
       "      <td>0.471923</td>\n",
       "      <td>-1.595458</td>\n",
       "      <td>0.447007</td>\n",
       "      <td>-0.465347</td>\n",
       "      <td>0.569680</td>\n",
       "      <td>-0.705530</td>\n",
       "      <td>-0.212300</td>\n",
       "      <td>-0.611236</td>\n",
       "      <td>-0.172942</td>\n",
       "      <td>-0.606353</td>\n",
       "      <td>...</td>\n",
       "      <td>-0.211564</td>\n",
       "      <td>-0.118899</td>\n",
       "      <td>-0.126508</td>\n",
       "      <td>-1.059427</td>\n",
       "      <td>-0.742863</td>\n",
       "      <td>5.215915</td>\n",
       "      <td>-0.178149</td>\n",
       "      <td>-0.227948</td>\n",
       "      <td>0.718519</td>\n",
       "      <td>-0.941343</td>\n",
       "    </tr>\n",
       "    <tr>\n",
       "      <th>2</th>\n",
       "      <td>-0.143430</td>\n",
       "      <td>0.009894</td>\n",
       "      <td>0.447007</td>\n",
       "      <td>1.044566</td>\n",
       "      <td>0.754969</td>\n",
       "      <td>-0.192653</td>\n",
       "      <td>0.989572</td>\n",
       "      <td>-0.241446</td>\n",
       "      <td>0.753181</td>\n",
       "      <td>1.103626</td>\n",
       "      <td>...</td>\n",
       "      <td>-0.211564</td>\n",
       "      <td>-0.118899</td>\n",
       "      <td>-0.126508</td>\n",
       "      <td>0.943906</td>\n",
       "      <td>-0.742863</td>\n",
       "      <td>-0.191721</td>\n",
       "      <td>-0.178149</td>\n",
       "      <td>-0.227948</td>\n",
       "      <td>-0.887996</td>\n",
       "      <td>-0.941343</td>\n",
       "    </tr>\n",
       "    <tr>\n",
       "      <th>3</th>\n",
       "      <td>0.471923</td>\n",
       "      <td>-1.592666</td>\n",
       "      <td>0.447007</td>\n",
       "      <td>0.180685</td>\n",
       "      <td>0.880039</td>\n",
       "      <td>-0.534571</td>\n",
       "      <td>0.388636</td>\n",
       "      <td>-1.482715</td>\n",
       "      <td>0.526019</td>\n",
       "      <td>-0.096117</td>\n",
       "      <td>...</td>\n",
       "      <td>-0.211564</td>\n",
       "      <td>-0.118899</td>\n",
       "      <td>-0.126508</td>\n",
       "      <td>0.943906</td>\n",
       "      <td>-0.742863</td>\n",
       "      <td>-0.191721</td>\n",
       "      <td>-0.178149</td>\n",
       "      <td>-0.227948</td>\n",
       "      <td>-0.887996</td>\n",
       "      <td>0.855911</td>\n",
       "    </tr>\n",
       "    <tr>\n",
       "      <th>4</th>\n",
       "      <td>-1.064986</td>\n",
       "      <td>-0.336304</td>\n",
       "      <td>0.447007</td>\n",
       "      <td>-0.082235</td>\n",
       "      <td>0.768866</td>\n",
       "      <td>-0.363612</td>\n",
       "      <td>-0.813236</td>\n",
       "      <td>-0.241446</td>\n",
       "      <td>0.543493</td>\n",
       "      <td>-0.316760</td>\n",
       "      <td>...</td>\n",
       "      <td>-0.211564</td>\n",
       "      <td>-0.118899</td>\n",
       "      <td>-0.126508</td>\n",
       "      <td>-1.059427</td>\n",
       "      <td>1.346143</td>\n",
       "      <td>-0.191721</td>\n",
       "      <td>-0.178149</td>\n",
       "      <td>-0.227948</td>\n",
       "      <td>1.254024</td>\n",
       "      <td>-0.941343</td>\n",
       "    </tr>\n",
       "    <tr>\n",
       "      <th>...</th>\n",
       "      <td>...</td>\n",
       "      <td>...</td>\n",
       "      <td>...</td>\n",
       "      <td>...</td>\n",
       "      <td>...</td>\n",
       "      <td>...</td>\n",
       "      <td>...</td>\n",
       "      <td>...</td>\n",
       "      <td>...</td>\n",
       "      <td>...</td>\n",
       "      <td>...</td>\n",
       "      <td>...</td>\n",
       "      <td>...</td>\n",
       "      <td>...</td>\n",
       "      <td>...</td>\n",
       "      <td>...</td>\n",
       "      <td>...</td>\n",
       "      <td>...</td>\n",
       "      <td>...</td>\n",
       "      <td>...</td>\n",
       "      <td>...</td>\n",
       "    </tr>\n",
       "    <tr>\n",
       "      <th>21516</th>\n",
       "      <td>-0.370138</td>\n",
       "      <td>0.272334</td>\n",
       "      <td>0.746790</td>\n",
       "      <td>9.555667</td>\n",
       "      <td>-0.055671</td>\n",
       "      <td>0.320223</td>\n",
       "      <td>1.290039</td>\n",
       "      <td>-0.241446</td>\n",
       "      <td>2.727743</td>\n",
       "      <td>-0.604974</td>\n",
       "      <td>...</td>\n",
       "      <td>-0.211564</td>\n",
       "      <td>-0.118899</td>\n",
       "      <td>-0.126508</td>\n",
       "      <td>0.943906</td>\n",
       "      <td>-0.742863</td>\n",
       "      <td>-0.191721</td>\n",
       "      <td>-0.178149</td>\n",
       "      <td>-0.227948</td>\n",
       "      <td>-0.887996</td>\n",
       "      <td>-0.941343</td>\n",
       "    </tr>\n",
       "    <tr>\n",
       "      <th>21517</th>\n",
       "      <td>-0.143430</td>\n",
       "      <td>-0.079448</td>\n",
       "      <td>-0.452342</td>\n",
       "      <td>32.317043</td>\n",
       "      <td>0.768866</td>\n",
       "      <td>2.200769</td>\n",
       "      <td>3.393315</td>\n",
       "      <td>-0.900944</td>\n",
       "      <td>5.523583</td>\n",
       "      <td>-0.569119</td>\n",
       "      <td>...</td>\n",
       "      <td>-0.211564</td>\n",
       "      <td>-0.118899</td>\n",
       "      <td>-0.126508</td>\n",
       "      <td>0.943906</td>\n",
       "      <td>-0.742863</td>\n",
       "      <td>-0.191721</td>\n",
       "      <td>-0.178149</td>\n",
       "      <td>-0.227948</td>\n",
       "      <td>-0.887996</td>\n",
       "      <td>0.855911</td>\n",
       "    </tr>\n",
       "    <tr>\n",
       "      <th>21518</th>\n",
       "      <td>1.841008</td>\n",
       "      <td>0.107611</td>\n",
       "      <td>0.746790</td>\n",
       "      <td>10.569788</td>\n",
       "      <td>-1.153509</td>\n",
       "      <td>1.516934</td>\n",
       "      <td>-0.212300</td>\n",
       "      <td>-0.241446</td>\n",
       "      <td>2.028783</td>\n",
       "      <td>-0.602147</td>\n",
       "      <td>...</td>\n",
       "      <td>-0.211564</td>\n",
       "      <td>-0.118899</td>\n",
       "      <td>-0.126508</td>\n",
       "      <td>-1.059427</td>\n",
       "      <td>1.346143</td>\n",
       "      <td>-0.191721</td>\n",
       "      <td>-0.178149</td>\n",
       "      <td>-0.227948</td>\n",
       "      <td>1.254024</td>\n",
       "      <td>0.855911</td>\n",
       "    </tr>\n",
       "    <tr>\n",
       "      <th>21519</th>\n",
       "      <td>-0.370138</td>\n",
       "      <td>-1.017532</td>\n",
       "      <td>0.746790</td>\n",
       "      <td>16.331496</td>\n",
       "      <td>-0.055671</td>\n",
       "      <td>2.542687</td>\n",
       "      <td>-0.212300</td>\n",
       "      <td>0.222558</td>\n",
       "      <td>3.164593</td>\n",
       "      <td>-0.593486</td>\n",
       "      <td>...</td>\n",
       "      <td>-0.211564</td>\n",
       "      <td>-0.118899</td>\n",
       "      <td>-0.126508</td>\n",
       "      <td>-1.059427</td>\n",
       "      <td>-0.742863</td>\n",
       "      <td>-0.191721</td>\n",
       "      <td>5.613293</td>\n",
       "      <td>-0.227948</td>\n",
       "      <td>-0.352491</td>\n",
       "      <td>0.855911</td>\n",
       "    </tr>\n",
       "    <tr>\n",
       "      <th>21520</th>\n",
       "      <td>-0.370138</td>\n",
       "      <td>-0.816514</td>\n",
       "      <td>-0.452342</td>\n",
       "      <td>35.922806</td>\n",
       "      <td>-0.055671</td>\n",
       "      <td>1.687893</td>\n",
       "      <td>-0.813236</td>\n",
       "      <td>0.728959</td>\n",
       "      <td>4.300403</td>\n",
       "      <td>-0.559466</td>\n",
       "      <td>...</td>\n",
       "      <td>-0.211564</td>\n",
       "      <td>-0.118899</td>\n",
       "      <td>-0.126508</td>\n",
       "      <td>0.943906</td>\n",
       "      <td>-0.742863</td>\n",
       "      <td>-0.191721</td>\n",
       "      <td>-0.178149</td>\n",
       "      <td>-0.227948</td>\n",
       "      <td>-0.887996</td>\n",
       "      <td>0.855911</td>\n",
       "    </tr>\n",
       "  </tbody>\n",
       "</table>\n",
       "<p>21521 rows × 28 columns</p>\n",
       "</div>"
      ],
      "text/plain": [
       "        company     level     title  totalyearlycompensation  location  \\\n",
       "0     -0.143430  0.054564  0.447007                 1.517822  1.065329   \n",
       "1      0.471923 -1.595458  0.447007                -0.465347  0.569680   \n",
       "2     -0.143430  0.009894  0.447007                 1.044566  0.754969   \n",
       "3      0.471923 -1.592666  0.447007                 0.180685  0.880039   \n",
       "4     -1.064986 -0.336304  0.447007                -0.082235  0.768866   \n",
       "...         ...       ...       ...                      ...       ...   \n",
       "21516 -0.370138  0.272334  0.746790                 9.555667 -0.055671   \n",
       "21517 -0.143430 -0.079448 -0.452342                32.317043  0.768866   \n",
       "21518  1.841008  0.107611  0.746790                10.569788 -1.153509   \n",
       "21519 -0.370138 -1.017532  0.746790                16.331496 -0.055671   \n",
       "21520 -0.370138 -0.816514 -0.452342                35.922806 -0.055671   \n",
       "\n",
       "       yearsofexperience  yearsatcompany       tag  basesalary  \\\n",
       "0              -0.363612        0.689104 -0.533509    1.329823   \n",
       "1              -0.705530       -0.212300 -0.611236   -0.172942   \n",
       "2              -0.192653        0.989572 -0.241446    0.753181   \n",
       "3              -0.534571        0.388636 -1.482715    0.526019   \n",
       "4              -0.363612       -0.813236 -0.241446    0.543493   \n",
       "...                  ...             ...       ...         ...   \n",
       "21516           0.320223        1.290039 -0.241446    2.727743   \n",
       "21517           2.200769        3.393315 -0.900944    5.523583   \n",
       "21518           1.516934       -0.212300 -0.241446    2.028783   \n",
       "21519           2.542687       -0.212300  0.222558    3.164593   \n",
       "21520           1.687893       -0.813236  0.728959    4.300403   \n",
       "\n",
       "       stockgrantvalue  ...  Doctorate_Degree  Highschool  Some_College  \\\n",
       "0             1.379429  ...          4.726695   -0.118899     -0.126508   \n",
       "1            -0.606353  ...         -0.211564   -0.118899     -0.126508   \n",
       "2             1.103626  ...         -0.211564   -0.118899     -0.126508   \n",
       "3            -0.096117  ...         -0.211564   -0.118899     -0.126508   \n",
       "4            -0.316760  ...         -0.211564   -0.118899     -0.126508   \n",
       "...                ...  ...               ...         ...           ...   \n",
       "21516        -0.604974  ...         -0.211564   -0.118899     -0.126508   \n",
       "21517        -0.569119  ...         -0.211564   -0.118899     -0.126508   \n",
       "21518        -0.602147  ...         -0.211564   -0.118899     -0.126508   \n",
       "21519        -0.593486  ...         -0.211564   -0.118899     -0.126508   \n",
       "21520        -0.559466  ...         -0.211564   -0.118899     -0.126508   \n",
       "\n",
       "       Race_Asian  Race_White  Race_Two_Or_More  Race_Black  Race_Hispanic  \\\n",
       "0        0.943906   -0.742863         -0.191721   -0.178149      -0.227948   \n",
       "1       -1.059427   -0.742863          5.215915   -0.178149      -0.227948   \n",
       "2        0.943906   -0.742863         -0.191721   -0.178149      -0.227948   \n",
       "3        0.943906   -0.742863         -0.191721   -0.178149      -0.227948   \n",
       "4       -1.059427    1.346143         -0.191721   -0.178149      -0.227948   \n",
       "...           ...         ...               ...         ...            ...   \n",
       "21516    0.943906   -0.742863         -0.191721   -0.178149      -0.227948   \n",
       "21517    0.943906   -0.742863         -0.191721   -0.178149      -0.227948   \n",
       "21518   -1.059427    1.346143         -0.191721   -0.178149      -0.227948   \n",
       "21519   -1.059427   -0.742863         -0.191721    5.613293      -0.227948   \n",
       "21520    0.943906   -0.742863         -0.191721   -0.178149      -0.227948   \n",
       "\n",
       "           Race  Education  \n",
       "0     -0.887996   1.754538  \n",
       "1      0.718519  -0.941343  \n",
       "2     -0.887996  -0.941343  \n",
       "3     -0.887996   0.855911  \n",
       "4      1.254024  -0.941343  \n",
       "...         ...        ...  \n",
       "21516 -0.887996  -0.941343  \n",
       "21517 -0.887996   0.855911  \n",
       "21518  1.254024   0.855911  \n",
       "21519 -0.352491   0.855911  \n",
       "21520 -0.887996   0.855911  \n",
       "\n",
       "[21521 rows x 28 columns]"
      ]
     },
     "execution_count": 28,
     "metadata": {},
     "output_type": "execute_result"
    }
   ],
   "source": [
    "real_df = pd.read_csv('Real_Data.csv')\n",
    "real_df"
   ]
  },
  {
   "cell_type": "code",
   "execution_count": 29,
   "id": "b71f24a9",
   "metadata": {},
   "outputs": [],
   "source": [
    "y= real_df ['totalyearlycompensation']\n",
    "X = real_df.drop(columns= ['totalyearlycompensation'])\n"
   ]
  },
  {
   "cell_type": "code",
   "execution_count": 33,
   "id": "01ea4b44",
   "metadata": {},
   "outputs": [],
   "source": [
    "from sklearn.model_selection import train_test_split\n",
    "X_train1, X_test1, y_train1, y_test1 = train_test_split(X,y, random_state = 42)"
   ]
  },
  {
   "cell_type": "code",
   "execution_count": 35,
   "id": "ec8a9bf2",
   "metadata": {},
   "outputs": [
    {
     "data": {
      "text/html": [
       "<style>#sk-container-id-1 {color: black;background-color: white;}#sk-container-id-1 pre{padding: 0;}#sk-container-id-1 div.sk-toggleable {background-color: white;}#sk-container-id-1 label.sk-toggleable__label {cursor: pointer;display: block;width: 100%;margin-bottom: 0;padding: 0.3em;box-sizing: border-box;text-align: center;}#sk-container-id-1 label.sk-toggleable__label-arrow:before {content: \"▸\";float: left;margin-right: 0.25em;color: #696969;}#sk-container-id-1 label.sk-toggleable__label-arrow:hover:before {color: black;}#sk-container-id-1 div.sk-estimator:hover label.sk-toggleable__label-arrow:before {color: black;}#sk-container-id-1 div.sk-toggleable__content {max-height: 0;max-width: 0;overflow: hidden;text-align: left;background-color: #f0f8ff;}#sk-container-id-1 div.sk-toggleable__content pre {margin: 0.2em;color: black;border-radius: 0.25em;background-color: #f0f8ff;}#sk-container-id-1 input.sk-toggleable__control:checked~div.sk-toggleable__content {max-height: 200px;max-width: 100%;overflow: auto;}#sk-container-id-1 input.sk-toggleable__control:checked~label.sk-toggleable__label-arrow:before {content: \"▾\";}#sk-container-id-1 div.sk-estimator input.sk-toggleable__control:checked~label.sk-toggleable__label {background-color: #d4ebff;}#sk-container-id-1 div.sk-label input.sk-toggleable__control:checked~label.sk-toggleable__label {background-color: #d4ebff;}#sk-container-id-1 input.sk-hidden--visually {border: 0;clip: rect(1px 1px 1px 1px);clip: rect(1px, 1px, 1px, 1px);height: 1px;margin: -1px;overflow: hidden;padding: 0;position: absolute;width: 1px;}#sk-container-id-1 div.sk-estimator {font-family: monospace;background-color: #f0f8ff;border: 1px dotted black;border-radius: 0.25em;box-sizing: border-box;margin-bottom: 0.5em;}#sk-container-id-1 div.sk-estimator:hover {background-color: #d4ebff;}#sk-container-id-1 div.sk-parallel-item::after {content: \"\";width: 100%;border-bottom: 1px solid gray;flex-grow: 1;}#sk-container-id-1 div.sk-label:hover label.sk-toggleable__label {background-color: #d4ebff;}#sk-container-id-1 div.sk-serial::before {content: \"\";position: absolute;border-left: 1px solid gray;box-sizing: border-box;top: 0;bottom: 0;left: 50%;z-index: 0;}#sk-container-id-1 div.sk-serial {display: flex;flex-direction: column;align-items: center;background-color: white;padding-right: 0.2em;padding-left: 0.2em;position: relative;}#sk-container-id-1 div.sk-item {position: relative;z-index: 1;}#sk-container-id-1 div.sk-parallel {display: flex;align-items: stretch;justify-content: center;background-color: white;position: relative;}#sk-container-id-1 div.sk-item::before, #sk-container-id-1 div.sk-parallel-item::before {content: \"\";position: absolute;border-left: 1px solid gray;box-sizing: border-box;top: 0;bottom: 0;left: 50%;z-index: -1;}#sk-container-id-1 div.sk-parallel-item {display: flex;flex-direction: column;z-index: 1;position: relative;background-color: white;}#sk-container-id-1 div.sk-parallel-item:first-child::after {align-self: flex-end;width: 50%;}#sk-container-id-1 div.sk-parallel-item:last-child::after {align-self: flex-start;width: 50%;}#sk-container-id-1 div.sk-parallel-item:only-child::after {width: 0;}#sk-container-id-1 div.sk-dashed-wrapped {border: 1px dashed gray;margin: 0 0.4em 0.5em 0.4em;box-sizing: border-box;padding-bottom: 0.4em;background-color: white;}#sk-container-id-1 div.sk-label label {font-family: monospace;font-weight: bold;display: inline-block;line-height: 1.2em;}#sk-container-id-1 div.sk-label-container {text-align: center;}#sk-container-id-1 div.sk-container {/* jupyter's `normalize.less` sets `[hidden] { display: none; }` but bootstrap.min.css set `[hidden] { display: none !important; }` so we also need the `!important` here to be able to override the default hidden behavior on the sphinx rendered scikit-learn.org. See: https://github.com/scikit-learn/scikit-learn/issues/21755 */display: inline-block !important;position: relative;}#sk-container-id-1 div.sk-text-repr-fallback {display: none;}</style><div id=\"sk-container-id-1\" class=\"sk-top-container\"><div class=\"sk-text-repr-fallback\"><pre>RandomForestRegressor(n_estimators=10, random_state=42)</pre><b>In a Jupyter environment, please rerun this cell to show the HTML representation or trust the notebook. <br />On GitHub, the HTML representation is unable to render, please try loading this page with nbviewer.org.</b></div><div class=\"sk-container\" hidden><div class=\"sk-item\"><div class=\"sk-estimator sk-toggleable\"><input class=\"sk-toggleable__control sk-hidden--visually\" id=\"sk-estimator-id-1\" type=\"checkbox\" checked><label for=\"sk-estimator-id-1\" class=\"sk-toggleable__label sk-toggleable__label-arrow\">RandomForestRegressor</label><div class=\"sk-toggleable__content\"><pre>RandomForestRegressor(n_estimators=10, random_state=42)</pre></div></div></div></div></div>"
      ],
      "text/plain": [
       "RandomForestRegressor(n_estimators=10, random_state=42)"
      ]
     },
     "execution_count": 35,
     "metadata": {},
     "output_type": "execute_result"
    }
   ],
   "source": [
    "from sklearn.ensemble import RandomForestRegressor \n",
    "regressor = RandomForestRegressor (n_estimators = 10, random_state = 42)\n",
    "regressor.fit(X_train1, y_train1)"
   ]
  },
  {
   "cell_type": "code",
   "execution_count": 38,
   "id": "24115416",
   "metadata": {},
   "outputs": [
    {
     "data": {
      "text/plain": [
       "array([-0.43830423, -0.21069047,  4.15378453, ..., -0.73653083,\n",
       "       -1.1301599 , -1.25711279])"
      ]
     },
     "execution_count": 38,
     "metadata": {},
     "output_type": "execute_result"
    }
   ],
   "source": [
    "y_pred = regressor.predict (X_test1)\n",
    "y_pred"
   ]
  },
  {
   "cell_type": "code",
   "execution_count": 39,
   "id": "36ed9d7e",
   "metadata": {},
   "outputs": [
    {
     "data": {
      "text/plain": [
       "0.8838752369509664"
      ]
     },
     "execution_count": 39,
     "metadata": {},
     "output_type": "execute_result"
    }
   ],
   "source": [
    "from sklearn.metrics import r2_score\n",
    "r2_score(y_test1, y_pred)"
   ]
  },
  {
   "cell_type": "code",
   "execution_count": null,
   "id": "98c99d1c",
   "metadata": {},
   "outputs": [],
   "source": []
  }
 ],
 "metadata": {
  "kernelspec": {
   "display_name": "Python 3 (ipykernel)",
   "language": "python",
   "name": "python3"
  },
  "language_info": {
   "codemirror_mode": {
    "name": "ipython",
    "version": 3
   },
   "file_extension": ".py",
   "mimetype": "text/x-python",
   "name": "python",
   "nbconvert_exporter": "python",
   "pygments_lexer": "ipython3",
   "version": "3.10.4"
  }
 },
 "nbformat": 4,
 "nbformat_minor": 5
}
